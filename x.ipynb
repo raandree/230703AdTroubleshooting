{
 "cells": [
  {
   "attachments": {},
   "cell_type": "markdown",
   "metadata": {},
   "source": [
    "# Notes during AD Troubleshooting Workshop\n",
    "\n",
    "## Todos\n",
    "\n",
    "1. RC4 deadline?\n",
    "\n",
    "    [November 2022 Out of Band update released! Take action! - Microsoft Community Hub](\n",
    "    https://techcommunity.microsoft.com/t5/ask-the-directory-services-team/november-2022-out-of-band-update-released-take-action/bc-p/3700413/highlight/true).\n",
    "\n",
    "1. Some domain controllers are under heavy load and it is not sure if the partner domain controllers in the same site experience the same load as well. Maybe applications target particular domain controllers because of hard settings. [Perfmon](https://learn.microsoft.com/de-de/windows-server/administration/windows-commands/perfmon) can help tracking the issue as well as monitoring the event log more closely.\n",
    "\n",
    "1. NTLM uses RC4 and should be removed as well. Monitoring the usage of NTLM is recommended and plan to restrict it arroding to [Network security: Restrict NTLM: Audit NTLM authentication in this domain](https://learn.microsoft.com/en-us/windows/security/threat-protection/security-policy-settings/network-security-restrict-ntlm-audit-ntlm-authentication-in-this-domain)\n",
    "\n",
    "1. There are old DNS SRV records of domain controllers decommisioned years ago. Are there processes cleaning up DNS on a regular basis?\n",
    "\n",
    "## Useful tools and links\n",
    "\n",
    "- [AutomatedLab](https://automatedlab.org/en/latest/)\n",
    "- [VSCode](https://code.visualstudio.com/download)\n",
    "- [Git](https://git-scm.com/downloads)\n",
    "- [regex101: build, test, and debug regex](https://regex101.com/)\n",
    "- [GitLense](https://marketplace.visualstudio.com/items?itemName=eamodio.gitlens)\n",
    "- [Microsoft Active Directory Topology Diagrammer](http://web.archive.org/web/20200802184044/https://www.microsoft.com/en-us/download/confirmation.aspx?id=13380) (This tool is no longer offically available, archive.org has made a copy)\n",
    "- [draw.io](https://www.drawio.com/) as a replacement for Microsoft Visio.\n",
    "\n",
    "## Notes\n",
    "\n",
    "- PowerShell is object oriented where as the cmd shell is text based. Retrieving the IP addresses from `ipconfig.exe` (text) is far more difficult that getting it from the result of a cmdlet (object)\n",
    "\n",
    "    ```powershell\n",
    "    ipconfig.exe | ForEach-Object { if ($_ -match 'IPv4 Address([\\. :]+)(?<IpAddress>[\\d\\.]+)') { $Matches.IpAddress } }\n",
    "\n",
    "    (Get-NetIPAddress).IPAddress\n",
    "    ```\n",
    "\n",
    "- Get all domain controllers within the current forest:\n",
    "\n",
    "    ```powershell\n",
    "    $f = Get-ADForest\n",
    "    $dcs = foreach ($domain in $f.Domains)\n",
    "    {\n",
    "        $domain = Get-ADDomain -Identity $domain\n",
    "        foreach ($dc in $domain.ReplicaDirectoryServers)\n",
    "        {\n",
    "        Get-ADDomainController -Identity $dc -Server $domain.DNSRoot\n",
    "        }\n",
    "    } \n",
    "    ```\n",
    "\n",
    "- Get a list of all AD replication site links with the site count and site name:\n",
    "\n",
    "    ```powershell\n",
    "    Get-ADReplicationSiteLink -Filter * | \n",
    "        Format-Table -Property Name , Cost, ReplicationFrequencyInMinutes, \n",
    "        @{ Name = 'SiteCount'; Expression = { \n",
    "                $_.SitesIncluded.Count } \n",
    "        }, \n",
    "        @{ Name = 'SitesIncluded'; Expression = { \n",
    "                $_.SitesIncluded | ForEach-Object { \n",
    "            ($_ -split ',')[0] | \n",
    "                        ForEach-Object {\n",
    "                            $_.Substring(3)\n",
    "                        } } } \n",
    "            }\n",
    "    ```\n"
   ]
  },
  {
   "cell_type": "code",
   "execution_count": null,
   "metadata": {
    "vscode": {
     "languageId": "powershell"
    }
   },
   "outputs": [],
   "source": [
    "Dir c:\\"
   ]
  }
 ],
 "metadata": {
  "language_info": {
   "name": "python"
  },
  "orig_nbformat": 4
 },
 "nbformat": 4,
 "nbformat_minor": 2
}
